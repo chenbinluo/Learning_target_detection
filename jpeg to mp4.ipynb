{
 "cells": [
  {
   "cell_type": "code",
   "execution_count": 2,
   "id": "8c67d1e9",
   "metadata": {},
   "outputs": [],
   "source": [
    "import cv2\n",
    "import os"
   ]
  },
  {
   "cell_type": "code",
   "execution_count": 3,
   "id": "cc919163",
   "metadata": {},
   "outputs": [],
   "source": [
    "fps = 15\n",
    "fourcc = cv2.VideoWriter_fourcc(*'mp4v')\n",
    "video_writer = cv2.VideoWriter(filename='./FLIR_to_vedio.mp4', fourcc=fourcc, fps=fps, frameSize=(640, 512))  # 图片实际尺寸，不然生成的视频会打不开\n",
    "for i in range(0,200):\n",
    "    p = i\n",
    "    img = cv2.imread(filename=r'C:\\Users\\cbluo\\Desktop\\FLIR_ADAS_1_3\\video\\thermal_8_bit\\FLIR_video_'+str(p).zfill(5)+'.jpeg')\n",
    "    #cv2.waitKey(100)\n",
    "    video_writer.write(img)\n",
    "video_writer.release()"
   ]
  },
  {
   "cell_type": "code",
   "execution_count": null,
   "id": "03d40925",
   "metadata": {},
   "outputs": [],
   "source": []
  }
 ],
 "metadata": {
  "kernelspec": {
   "display_name": "Python 3 (ipykernel)",
   "language": "python",
   "name": "python3"
  },
  "language_info": {
   "codemirror_mode": {
    "name": "ipython",
    "version": 3
   },
   "file_extension": ".py",
   "mimetype": "text/x-python",
   "name": "python",
   "nbconvert_exporter": "python",
   "pygments_lexer": "ipython3",
   "version": "3.7.11"
  }
 },
 "nbformat": 4,
 "nbformat_minor": 5
}
